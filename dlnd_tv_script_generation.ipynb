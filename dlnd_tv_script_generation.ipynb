{
 "cells": [
  {
   "cell_type": "markdown",
   "metadata": {
    "deletable": true,
    "editable": true,
    "nbpresent": {
     "id": "8b9047a7-c56a-46e8-8b3c-1fd39502baa5"
    }
   },
   "source": [
    "# TV Script Generation\n",
    "In this project, you'll generate your own [Simpsons](https://en.wikipedia.org/wiki/The_Simpsons) TV scripts using RNNs.  You'll be using part of the [Simpsons dataset](https://www.kaggle.com/wcukierski/the-simpsons-by-the-data) of scripts from 27 seasons.  The Neural Network you'll build will generate a new TV script for a scene at [Moe's Tavern](https://simpsonswiki.com/wiki/Moe's_Tavern).\n",
    "## Get the Data\n",
    "The data is already provided for you.  You'll be using a subset of the original dataset.  It consists of only the scenes in Moe's Tavern.  This doesn't include other versions of the tavern, like \"Moe's Cavern\", \"Flaming Moe's\", \"Uncle Moe's Family Feed-Bag\", etc.."
   ]
  },
  {
   "cell_type": "code",
   "execution_count": 1,
   "metadata": {
    "ExecuteTime": {
     "end_time": "2017-11-07T08:41:34.540758Z",
     "start_time": "2017-11-07T16:41:34.529879+08:00"
    },
    "collapsed": true,
    "deletable": true,
    "editable": true,
    "nbpresent": {
     "id": "1822c5c0-0af5-4c66-b042-a3c99c94ae1c"
    }
   },
   "outputs": [],
   "source": [
    "\"\"\"\n",
    "DON'T MODIFY ANYTHING IN THIS CELL\n",
    "\"\"\"\n",
    "import helper\n",
    "\n",
    "data_dir = './data/simpsons/moes_tavern_lines.txt'\n",
    "text = helper.load_data(data_dir)\n",
    "# Ignore notice, since we don't use it for analysing the data\n",
    "text = text[81:]"
   ]
  },
  {
   "cell_type": "markdown",
   "metadata": {
    "deletable": true,
    "editable": true,
    "nbpresent": {
     "id": "b509d35e-808d-402f-a371-2fbdedc20de0"
    }
   },
   "source": [
    "## Explore the Data\n",
    "Play around with `view_sentence_range` to view different parts of the data."
   ]
  },
  {
   "cell_type": "code",
   "execution_count": 2,
   "metadata": {
    "ExecuteTime": {
     "end_time": "2017-11-07T08:39:44.939551Z",
     "start_time": "2017-11-07T16:39:44.657742+08:00"
    },
    "collapsed": false,
    "deletable": true,
    "editable": true,
    "nbpresent": {
     "id": "d67551f1-02d0-4fc8-93c6-c1076ef65bcb"
    }
   },
   "outputs": [
    {
     "name": "stdout",
     "output_type": "stream",
     "text": [
      "Dataset Stats\n",
      "Roughly the number of unique words: 11492\n",
      "Number of scenes: 262\n",
      "Average number of sentences in each scene: 15.248091603053435\n",
      "Number of lines: 4257\n",
      "Average number of words in each line: 11.50434578341555\n",
      "\n",
      "The sentences 0 to 10:\n",
      "Moe_Szyslak: (INTO PHONE) Moe's Tavern. Where the elite meet to drink.\n",
      "Bart_Simpson: Eh, yeah, hello, is Mike there? Last name, Rotch.\n",
      "Moe_Szyslak: (INTO PHONE) Hold on, I'll check. (TO BARFLIES) Mike Rotch. Mike Rotch. Hey, has anybody seen Mike Rotch, lately?\n",
      "Moe_Szyslak: (INTO PHONE) Listen you little puke. One of these days I'm gonna catch you, and I'm gonna carve my name on your back with an ice pick.\n",
      "Moe_Szyslak: What's the matter Homer? You're not your normal effervescent self.\n",
      "Homer_Simpson: I got my problems, Moe. Give me another one.\n",
      "Moe_Szyslak: Homer, hey, you should not drink to forget your problems.\n",
      "Barney_Gumble: Yeah, you should only drink to enhance your social skills.\n",
      "\n",
      "\n"
     ]
    }
   ],
   "source": [
    "view_sentence_range = (0, 10)\n",
    "\n",
    "\"\"\"\n",
    "DON'T MODIFY ANYTHING IN THIS CELL\n",
    "\"\"\"\n",
    "import numpy as np\n",
    "\n",
    "print('Dataset Stats')\n",
    "print('Roughly the number of unique words: {}'.format(len({word: None for word in text.split()})))\n",
    "scenes = text.split('\\n\\n')\n",
    "print('Number of scenes: {}'.format(len(scenes)))\n",
    "sentence_count_scene = [scene.count('\\n') for scene in scenes]\n",
    "print('Average number of sentences in each scene: {}'.format(np.average(sentence_count_scene)))\n",
    "\n",
    "sentences = [sentence for scene in scenes for sentence in scene.split('\\n')]\n",
    "print('Number of lines: {}'.format(len(sentences)))\n",
    "word_count_sentence = [len(sentence.split()) for sentence in sentences]\n",
    "print('Average number of words in each line: {}'.format(np.average(word_count_sentence)))\n",
    "\n",
    "print()\n",
    "print('The sentences {} to {}:'.format(*view_sentence_range))\n",
    "print('\\n'.join(text.split('\\n')[view_sentence_range[0]:view_sentence_range[1]]))"
   ]
  },
  {
   "cell_type": "markdown",
   "metadata": {
    "deletable": true,
    "editable": true,
    "nbpresent": {
     "id": "7d4067bc-869d-4777-8c6c-df5526d3184e"
    }
   },
   "source": [
    "## Implement Preprocessing Functions\n",
    "The first thing to do to any dataset is preprocessing.  Implement the following preprocessing functions below:\n",
    "- Lookup Table\n",
    "- Tokenize Punctuation\n",
    "\n",
    "### Lookup Table\n",
    "To create a word embedding, you first need to transform the words to ids.  In this function, create two dictionaries:\n",
    "- Dictionary to go from the words to an id, we'll call `vocab_to_int`\n",
    "- Dictionary to go from the id to word, we'll call `int_to_vocab`\n",
    "\n",
    "Return these dictionaries in the following tuple `(vocab_to_int, int_to_vocab)`"
   ]
  },
  {
   "cell_type": "code",
   "execution_count": 3,
   "metadata": {
    "ExecuteTime": {
     "end_time": "2017-11-06T09:18:31.096796Z",
     "start_time": "2017-11-06T17:18:11.373327+08:00"
    },
    "collapsed": false,
    "deletable": true,
    "editable": true,
    "nbpresent": {
     "id": "d003498b-f2e5-41ff-be86-ab7345f6dfed"
    }
   },
   "outputs": [
    {
     "name": "stdout",
     "output_type": "stream",
     "text": [
      "Tests Passed\n"
     ]
    }
   ],
   "source": [
    "import numpy as np\n",
    "import problem_unittests as tests\n",
    "from collections import Counter\n",
    "def create_lookup_tables(text):\n",
    "    \"\"\"\n",
    "    Create lookup tables for vocabulary\n",
    "    :param text: The text of tv scripts split into words\n",
    "    :return: A tuple of dicts (vocab_to_int, int_to_vocab)\n",
    "    \"\"\"\n",
    "    word_counts = Counter(text)\n",
    "    sorted_vocab = sorted(word_counts, key=word_counts.get, reverse=True)\n",
    "    int_to_vocab = {ii: text for ii, text in enumerate(sorted_vocab)}\n",
    "    vocab_to_int = {text: ii for ii, text in int_to_vocab.items()}\n",
    "    \n",
    "    return (vocab_to_int, int_to_vocab)\n",
    "\n",
    "\n",
    "\"\"\"\n",
    "DON'T MODIFY ANYTHING IN THIS CELL THAT IS BELOW THIS LINE\n",
    "\"\"\"\n",
    "tests.test_create_lookup_tables(create_lookup_tables)"
   ]
  },
  {
   "cell_type": "markdown",
   "metadata": {
    "deletable": true,
    "editable": true,
    "nbpresent": {
     "id": "0feed3df-fafc-4e07-8162-98e19564670c"
    }
   },
   "source": [
    "### Tokenize Punctuation\n",
    "We'll be splitting the script into a word array using spaces as delimiters.  However, punctuations like periods and exclamation marks make it hard for the neural network to distinguish between the word \"bye\" and \"bye!\".\n",
    "\n",
    "Implement the function `token_lookup` to return a dict that will be used to tokenize symbols like \"!\" into \"||Exclamation_Mark||\".  Create a dictionary for the following symbols where the symbol is the key and value is the token:\n",
    "- Period ( . )\n",
    "- Comma ( , )\n",
    "- Quotation Mark ( \" )\n",
    "- Semicolon ( ; )\n",
    "- Exclamation mark ( ! )\n",
    "- Question mark ( ? )\n",
    "- Left Parentheses ( ( )\n",
    "- Right Parentheses ( ) )\n",
    "- Dash ( -- )\n",
    "- Return ( \\n )\n",
    "\n",
    "This dictionary will be used to token the symbols and add the delimiter (space) around it.  This separates the symbols as it's own word, making it easier for the neural network to predict on the next word. Make sure you don't use a token that could be confused as a word. Instead of using the token \"dash\", try using something like \"||dash||\"."
   ]
  },
  {
   "cell_type": "code",
   "execution_count": 4,
   "metadata": {
    "ExecuteTime": {
     "end_time": "2017-11-06T09:18:31.115510Z",
     "start_time": "2017-11-06T17:18:31.099750+08:00"
    },
    "collapsed": false,
    "deletable": true,
    "editable": true,
    "nbpresent": {
     "id": "a7226211-d3f8-4bcb-9516-a46bb36e4904"
    }
   },
   "outputs": [
    {
     "name": "stdout",
     "output_type": "stream",
     "text": [
      "Tests Passed\n"
     ]
    }
   ],
   "source": [
    "def token_lookup():\n",
    "    \"\"\"\n",
    "    Generate a dict to turn punctuation into a token.\n",
    "    :return: Tokenize dictionary where the key is the punctuation and the value is the token\n",
    "    \"\"\"\n",
    "    tokenize = {}\n",
    "    tokenize['.']=\"||period||\"\n",
    "    tokenize[',']=\"||comma||\"\n",
    "    tokenize['\"']=\"||quotation_mark||\"\n",
    "    tokenize[';']=\"||semicolon||\"\n",
    "    tokenize['!']=\"||exclamation_mark||\"\n",
    "    tokenize['?']=\"||question_mark||\"\n",
    "    tokenize['(']=\"||left_parantheses||\"\n",
    "    tokenize[')']=\"||right_parantheses||\"\n",
    "    tokenize['--'] = \"||dash||\"\n",
    "    tokenize['\\n'] = \"||return||\"\n",
    "    \n",
    "    return tokenize\n",
    "\n",
    "\"\"\"\n",
    "DON'T MODIFY ANYTHING IN THIS CELL THAT IS BELOW THIS LINE\n",
    "\"\"\"\n",
    "tests.test_tokenize(token_lookup)"
   ]
  },
  {
   "cell_type": "markdown",
   "metadata": {
    "deletable": true,
    "editable": true,
    "nbpresent": {
     "id": "fdb3ce03-46d4-4bea-abba-22065d02657d"
    }
   },
   "source": [
    "## Preprocess all the data and save it\n",
    "Running the code cell below will preprocess all the data and save it to file."
   ]
  },
  {
   "cell_type": "code",
   "execution_count": 5,
   "metadata": {
    "ExecuteTime": {
     "end_time": "2017-11-06T09:18:31.216620Z",
     "start_time": "2017-11-06T17:18:31.124095+08:00"
    },
    "collapsed": false,
    "deletable": true,
    "editable": true,
    "nbpresent": {
     "id": "2a8a9705-b69b-43d9-9e7b-b2e3ff49ec0c"
    }
   },
   "outputs": [],
   "source": [
    "\"\"\"\n",
    "DON'T MODIFY ANYTHING IN THIS CELL\n",
    "\"\"\"\n",
    "# Preprocess Training, Validation, and Testing Data\n",
    "helper.preprocess_and_save_data(data_dir, token_lookup, create_lookup_tables)"
   ]
  },
  {
   "cell_type": "markdown",
   "metadata": {
    "deletable": true,
    "editable": true,
    "nbpresent": {
     "id": "9c5cc873-e8f4-44b0-866f-03489995a757"
    }
   },
   "source": [
    "# Check Point\n",
    "This is your first checkpoint. If you ever decide to come back to this notebook or have to restart the notebook, you can start from here. The preprocessed data has been saved to disk."
   ]
  },
  {
   "cell_type": "code",
   "execution_count": 6,
   "metadata": {
    "ExecuteTime": {
     "end_time": "2017-11-06T09:18:36.873466Z",
     "start_time": "2017-11-06T17:18:36.863314+08:00"
    },
    "collapsed": true,
    "deletable": true,
    "editable": true,
    "nbpresent": {
     "id": "86532fb4-7934-4991-af74-b2399f28722a"
    }
   },
   "outputs": [],
   "source": [
    "\"\"\"\n",
    "DON'T MODIFY ANYTHING IN THIS CELL\n",
    "\"\"\"\n",
    "import helper\n",
    "import numpy as np\n",
    "import problem_unittests as tests\n",
    "\n",
    "int_text, vocab_to_int, int_to_vocab, token_dict = helper.load_preprocess()"
   ]
  },
  {
   "cell_type": "markdown",
   "metadata": {
    "deletable": true,
    "editable": true,
    "nbpresent": {
     "id": "e9c565a0-fa94-465a-aa02-c6ec1c36f583"
    }
   },
   "source": [
    "## Build the Neural Network\n",
    "You'll build the components necessary to build a RNN by implementing the following functions below:\n",
    "- get_inputs\n",
    "- get_init_cell\n",
    "- get_embed\n",
    "- build_rnn\n",
    "- build_nn\n",
    "- get_batches\n",
    "\n",
    "### Check the Version of TensorFlow and Access to GPU"
   ]
  },
  {
   "cell_type": "code",
   "execution_count": 7,
   "metadata": {
    "ExecuteTime": {
     "end_time": "2017-11-06T09:18:39.631902Z",
     "start_time": "2017-11-06T17:18:39.623403+08:00"
    },
    "collapsed": false,
    "deletable": true,
    "editable": true,
    "nbpresent": {
     "id": "afcf877d-8cd2-46f2-9f7a-f7862c514510"
    }
   },
   "outputs": [
    {
     "name": "stdout",
     "output_type": "stream",
     "text": [
      "TensorFlow Version: 1.0.0\n",
      "Default GPU Device: /gpu:0\n"
     ]
    }
   ],
   "source": [
    "\"\"\"\n",
    "DON'T MODIFY ANYTHING IN THIS CELL\n",
    "\"\"\"\n",
    "from distutils.version import LooseVersion\n",
    "import warnings\n",
    "import tensorflow as tf\n",
    "\n",
    "# Check TensorFlow Version\n",
    "assert LooseVersion(tf.__version__) >= LooseVersion('1.0'), 'Please use TensorFlow version 1.0 or newer'\n",
    "print('TensorFlow Version: {}'.format(tf.__version__))\n",
    "\n",
    "# Check for a GPU\n",
    "if not tf.test.gpu_device_name():\n",
    "    warnings.warn('No GPU found. Please use a GPU to train your neural network.')\n",
    "else:\n",
    "    print('Default GPU Device: {}'.format(tf.test.gpu_device_name()))"
   ]
  },
  {
   "cell_type": "code",
   "execution_count": 8,
   "metadata": {
    "collapsed": false,
    "deletable": true,
    "editable": true,
    "nbpresent": {
     "id": "2047e23c-7ae3-4f38-9cf8-e47cfd1c6f60"
    }
   },
   "outputs": [
    {
     "data": {
      "text/plain": [
       "'/gpu:0'"
      ]
     },
     "execution_count": 8,
     "metadata": {},
     "output_type": "execute_result"
    }
   ],
   "source": [
    "tf.test.gpu_device_name()"
   ]
  },
  {
   "cell_type": "markdown",
   "metadata": {
    "deletable": true,
    "editable": true,
    "nbpresent": {
     "id": "777d808a-181b-44ff-98c7-048f90400758"
    }
   },
   "source": [
    "### Input\n",
    "Implement the `get_inputs()` function to create TF Placeholders for the Neural Network.  It should create the following placeholders:\n",
    "- Input text placeholder named \"input\" using the [TF Placeholder](https://www.tensorflow.org/api_docs/python/tf/placeholder) `name` parameter.\n",
    "- Targets placeholder\n",
    "- Learning Rate placeholder\n",
    "\n",
    "Return the placeholders in the following tuple `(Input, Targets, LearningRate)`"
   ]
  },
  {
   "cell_type": "code",
   "execution_count": 9,
   "metadata": {
    "ExecuteTime": {
     "end_time": "2017-11-06T09:18:41.165537Z",
     "start_time": "2017-11-06T17:18:41.153834+08:00"
    },
    "collapsed": false,
    "deletable": true,
    "editable": true,
    "nbpresent": {
     "id": "bae05acf-b4fe-4801-ae56-24665cdce60c"
    }
   },
   "outputs": [
    {
     "name": "stdout",
     "output_type": "stream",
     "text": [
      "Tests Passed\n"
     ]
    }
   ],
   "source": [
    "def get_inputs():\n",
    "    \"\"\"\n",
    "    Create TF Placeholders for input, targets, and learning rate.\n",
    "    :return: Tuple (input, targets, learning rate)\n",
    "    \"\"\"\n",
    "    input = tf.placeholder(tf.int32, [None, None], name='input')\n",
    "    targets = tf.placeholder(tf.int32, [None, None], name='targets')\n",
    "    learning_rate = tf.placeholder(tf.float32, name='learning_rate')\n",
    "    return (input,targets,learning_rate)\n",
    "\n",
    "\n",
    "\"\"\"\n",
    "DON'T MODIFY ANYTHING IN THIS CELL THAT IS BELOW THIS LINE\n",
    "\"\"\"\n",
    "tests.test_get_inputs(get_inputs)"
   ]
  },
  {
   "cell_type": "markdown",
   "metadata": {
    "deletable": true,
    "editable": true,
    "nbpresent": {
     "id": "d7e78211-1da5-4132-a321-caa9eb9b21cf"
    }
   },
   "source": [
    "### Build RNN Cell and Initialize\n",
    "Stack one or more [`BasicLSTMCells`](https://www.tensorflow.org/api_docs/python/tf/contrib/rnn/BasicLSTMCell) in a [`MultiRNNCell`](https://www.tensorflow.org/api_docs/python/tf/contrib/rnn/MultiRNNCell).\n",
    "- The Rnn size should be set using `rnn_size`\n",
    "- Initalize Cell State using the MultiRNNCell's [`zero_state()`](https://www.tensorflow.org/api_docs/python/tf/contrib/rnn/MultiRNNCell#zero_state) function\n",
    "    - Apply the name \"initial_state\" to the initial state using [`tf.identity()`](https://www.tensorflow.org/api_docs/python/tf/identity)\n",
    "\n",
    "Return the cell and initial state in the following tuple `(Cell, InitialState)`"
   ]
  },
  {
   "cell_type": "code",
   "execution_count": 15,
   "metadata": {
    "ExecuteTime": {
     "end_time": "2017-11-06T09:36:26.389608Z",
     "start_time": "2017-11-06T17:36:26.365065+08:00"
    },
    "collapsed": false,
    "deletable": true,
    "editable": true,
    "nbpresent": {
     "id": "5731e2b0-5a9c-4315-8016-7cf12b14dcc4"
    }
   },
   "outputs": [
    {
     "name": "stdout",
     "output_type": "stream",
     "text": [
      "Tests Passed\n"
     ]
    }
   ],
   "source": [
    "# 这里的模型需要不断的调整\n",
    "def get_init_cell(batch_size, rnn_size):\n",
    "    \"\"\"\n",
    "    Create an RNN Cell and initialize it.\n",
    "    :param batch_size: Size of batches\n",
    "    :param rnn_size: Size of RNNs\n",
    "    :return: Tuple (cell, initialize state)\n",
    "    \"\"\"\n",
    "    #batch_size = tf.placeholder(tf.int32, [], name='batch_size')\n",
    "    lstm1 = tf.contrib.rnn.BasicLSTMCell(rnn_size)\n",
    "    lstm2 = tf.contrib.rnn.BasicLSTMCell(rnn_size)\n",
    "    lstm3 = tf.contrib.rnn.BasicLSTMCell(rnn_size)\n",
    "    cell = tf.contrib.rnn.MultiRNNCell([lstm1,lstm2,lstm3])\n",
    "    initial_state = cell.zero_state(batch_size, tf.float32)\n",
    "    initial_state = tf.identity(initial_state, name='initial_state')\n",
    "    return cell, initial_state\n",
    "    \n",
    "#     lstm1 = tf.contrib.rnn.BasicLSTMCell(rnn_size)\n",
    "#     lstm2 = tf.contrib.rnn.BasicLSTMCell(rnn_size)\n",
    "#     cell = tf.contrib.rnn.MultiRNNCell([lstm1,lstm2])\n",
    "#     initial_state = tf.identity(cell.zero_state(batch_size, tf.float32), \"initial_state\")\n",
    "#     return (cell, initial_state)\n",
    "\n",
    "\n",
    "\"\"\"\n",
    "DON'T MODIFY ANYTHING IN THIS CELL THAT IS BELOW THIS LINE\n",
    "\"\"\"\n",
    "tests.test_get_init_cell(get_init_cell)"
   ]
  },
  {
   "cell_type": "markdown",
   "metadata": {
    "deletable": true,
    "editable": true,
    "nbpresent": {
     "id": "8355e6c0-e8f7-4ed4-bc2d-f03aaae52ac3"
    }
   },
   "source": [
    "### Word Embedding\n",
    "Apply embedding to `input_data` using TensorFlow.  Return the embedded sequence."
   ]
  },
  {
   "cell_type": "code",
   "execution_count": 11,
   "metadata": {
    "ExecuteTime": {
     "end_time": "2017-11-06T09:18:45.820450Z",
     "start_time": "2017-11-06T17:18:45.799694+08:00"
    },
    "collapsed": false,
    "deletable": true,
    "editable": true,
    "nbpresent": {
     "id": "51d5a3e2-80a1-4c0d-a3b2-4e56777e84cf"
    }
   },
   "outputs": [
    {
     "name": "stdout",
     "output_type": "stream",
     "text": [
      "Tests Passed\n"
     ]
    }
   ],
   "source": [
    "def get_embed(input_data, vocab_size, embed_dim):\n",
    "    \"\"\"\n",
    "    Create embedding for <input_data>.\n",
    "    :param input_data: TF placeholder for text input.\n",
    "    :param vocab_size: Number of words in vocabulary.\n",
    "    :param embed_dim: Number of embedding dimensions\n",
    "    :return: Embedded input.\n",
    "    \"\"\"\n",
    "    embedding = tf.Variable(tf.random_uniform((vocab_size, embed_dim), -1, 1))\n",
    "    embed = tf.nn.embedding_lookup(embedding, input_data)\n",
    "    return embed\n",
    "\n",
    "\n",
    "\"\"\"\n",
    "DON'T MODIFY ANYTHING IN THIS CELL THAT IS BELOW THIS LINE\n",
    "\"\"\"\n",
    "tests.test_get_embed(get_embed)"
   ]
  },
  {
   "cell_type": "markdown",
   "metadata": {
    "deletable": true,
    "editable": true,
    "nbpresent": {
     "id": "696f5a6a-6ec0-413d-ae10-a2997a383d59"
    }
   },
   "source": [
    "### Build RNN\n",
    "You created a RNN Cell in the `get_init_cell()` function.  Time to use the cell to create a RNN.\n",
    "- Build the RNN using the [`tf.nn.dynamic_rnn()`](https://www.tensorflow.org/api_docs/python/tf/nn/dynamic_rnn)\n",
    " - Apply the name \"final_state\" to the final state using [`tf.identity()`](https://www.tensorflow.org/api_docs/python/tf/identity)\n",
    "\n",
    "Return the outputs and final_state state in the following tuple `(Outputs, FinalState)` "
   ]
  },
  {
   "cell_type": "code",
   "execution_count": 12,
   "metadata": {
    "ExecuteTime": {
     "end_time": "2017-11-06T09:18:47.637681Z",
     "start_time": "2017-11-06T17:18:47.430964+08:00"
    },
    "collapsed": false,
    "deletable": true,
    "editable": true,
    "nbpresent": {
     "id": "1eb44142-78df-44f3-9c09-63e9d3383539"
    }
   },
   "outputs": [
    {
     "name": "stdout",
     "output_type": "stream",
     "text": [
      "Tests Passed\n"
     ]
    }
   ],
   "source": [
    "def build_rnn(cell, inputs):\n",
    "    \"\"\"\n",
    "    Create a RNN using a RNN Cell\n",
    "    :param cell: RNN Cell\n",
    "    :param inputs: Input text data\n",
    "    :return: Tuple (Outputs, Final State)\n",
    "    \"\"\"\n",
    "    outputs, final_state = tf.nn.dynamic_rnn(cell, inputs, dtype='float32')\n",
    "    final_state = tf.identity(final_state, name='final_state')\n",
    "    return outputs, final_state\n",
    "\n",
    "\n",
    "\"\"\"\n",
    "DON'T MODIFY ANYTHING IN THIS CELL THAT IS BELOW THIS LINE\n",
    "\"\"\"\n",
    "tests.test_build_rnn(build_rnn)"
   ]
  },
  {
   "cell_type": "markdown",
   "metadata": {
    "deletable": true,
    "editable": true,
    "nbpresent": {
     "id": "57a3c9f8-dd70-4716-b9c2-ef31fc98a35e"
    }
   },
   "source": [
    "### Build the Neural Network\n",
    "Apply the functions you implemented above to:\n",
    "- Apply embedding to `input_data` using your `get_embed(input_data, vocab_size, embed_dim)` function.\n",
    "- Build RNN using `cell` and your `build_rnn(cell, inputs)` function.\n",
    "- Apply a fully connected layer with a linear activation and `vocab_size` as the number of outputs.\n",
    "\n",
    "Return the logits and final state in the following tuple (Logits, FinalState) "
   ]
  },
  {
   "cell_type": "code",
   "execution_count": 13,
   "metadata": {
    "ExecuteTime": {
     "end_time": "2017-11-06T09:18:51.368206Z",
     "start_time": "2017-11-06T17:18:51.122331+08:00"
    },
    "collapsed": false,
    "deletable": true,
    "editable": true,
    "nbpresent": {
     "id": "764cf1ed-f343-4fbd-bc4c-922d280b94b2"
    }
   },
   "outputs": [
    {
     "name": "stdout",
     "output_type": "stream",
     "text": [
      "Tests Passed\n"
     ]
    }
   ],
   "source": [
    "def build_nn(cell, rnn_size, input_data, vocab_size, embed_dim):\n",
    "    \"\"\"\n",
    "    Build part of the neural network\n",
    "    :param cell: RNN cell\n",
    "    :param rnn_size: Size of rnns\n",
    "    :param input_data: Input data\n",
    "    :param vocab_size: Vocabulary size\n",
    "    :param embed_dim: Number of embedding dimensions\n",
    "    :return: Tuple (Logits, FinalState)\n",
    "    \"\"\"\n",
    "    embed = get_embed(input_data, vocab_size, embed_dim)\n",
    "    outputs, final_state = build_rnn(cell, embed)\n",
    "    weights = tf.truncated_normal_initializer(stddev=0.1)\n",
    "    logits = tf.contrib.layers.fully_connected(outputs, \n",
    "                                               vocab_size, \n",
    "                                               activation_fn=None,\n",
    "                                               weights_initializer=weights,\n",
    "                                               biases_initializer=tf.zeros_initializer())\n",
    "    return logits, final_state\n",
    "\n",
    "\n",
    "\"\"\"\n",
    "DON'T MODIFY ANYTHING IN THIS CELL THAT IS BELOW THIS LINE\n",
    "\"\"\"\n",
    "tests.test_build_nn(build_nn)"
   ]
  },
  {
   "cell_type": "markdown",
   "metadata": {
    "deletable": true,
    "editable": true,
    "nbpresent": {
     "id": "a432b422-e29a-414d-a288-ac0a09fc4ad9"
    }
   },
   "source": [
    "### Batches\n",
    "Implement `get_batches` to create batches of input and targets using `int_text`.  The batches should be a Numpy array with the shape `(number of batches, 2, batch size, sequence length)`. Each batch contains two elements:\n",
    "- The first element is a single batch of **input** with the shape `[batch size, sequence length]`\n",
    "- The second element is a single batch of **targets** with the shape `[batch size, sequence length]`\n",
    "\n",
    "If you can't fill the last batch with enough data, drop the last batch.\n",
    "\n",
    "For exmple, `get_batches([1, 2, 3, 4, 5, 6, 7, 8, 9, 10, 11, 12, 13, 14, 15], 2, 3)` would return a Numpy array of the following:\n",
    "```\n",
    "[\n",
    "  # First Batch\n",
    "  [\n",
    "    # Batch of Input\n",
    "    [[ 1  2  3], [ 7  8  9]],\n",
    "    # Batch of targets\n",
    "    [[ 2  3  4], [ 8  9 10]]\n",
    "  ],\n",
    " \n",
    "  # Second Batch\n",
    "  [\n",
    "    # Batch of Input\n",
    "    [[ 4  5  6], [10 11 12]],\n",
    "    # Batch of targets\n",
    "    [[ 5  6  7], [11 12 13]]\n",
    "  ]\n",
    "]\n",
    "```"
   ]
  },
  {
   "cell_type": "code",
   "execution_count": 14,
   "metadata": {
    "ExecuteTime": {
     "end_time": "2017-11-06T09:20:43.001020Z",
     "start_time": "2017-11-06T17:20:42.980528+08:00"
    },
    "collapsed": false,
    "deletable": true,
    "editable": true,
    "nbpresent": {
     "id": "25f87ad0-d1d7-4d0e-8572-50868e9789ee"
    }
   },
   "outputs": [
    {
     "name": "stdout",
     "output_type": "stream",
     "text": [
      "Tests Passed\n"
     ]
    }
   ],
   "source": [
    "def get_batches(int_text, batch_size, seq_length):\n",
    "    \"\"\"\n",
    "    Return batches of input and target\n",
    "    :param int_text: Text with the words replaced by their ids\n",
    "    :param batch_size: The size of batch\n",
    "    :param seq_length: The length of sequence\n",
    "    :return: Batches as a Numpy array\n",
    "    \"\"\"\n",
    "    n_batches = int(len(int_text) / (batch_size * seq_length))\n",
    "    # Drop the last few characters to make only full batches\n",
    "    xdata = np.array(int_text[: n_batches * batch_size * seq_length])\n",
    "    ydata = np.array(int_text[1: n_batches * batch_size * seq_length + 1])\n",
    "    ydata[-1] = xdata[0]\n",
    "\n",
    "    x_batches = np.split(xdata.reshape(batch_size, -1), n_batches, 1)\n",
    "    y_batches = np.split(ydata.reshape(batch_size, -1), n_batches, 1)\n",
    "    return np.array(list(zip(x_batches, y_batches)))\n",
    "\n",
    "\"\"\"\n",
    "DON'T MODIFY ANYTHING IN THIS CELL THAT IS BELOW THIS LINE\n",
    "\"\"\"\n",
    "tests.test_get_batches(get_batches)"
   ]
  },
  {
   "cell_type": "markdown",
   "metadata": {
    "deletable": true,
    "editable": true,
    "nbpresent": {
     "id": "736d798d-78d1-4755-b20b-4f430fd7d6b0"
    }
   },
   "source": [
    "## Neural Network Training\n",
    "### Hyperparameters\n",
    "Tune the following parameters:\n",
    "\n",
    "- Set `num_epochs` to the number of epochs.\n",
    "- Set `batch_size` to the batch size.\n",
    "- Set `rnn_size` to the size of the RNNs.\n",
    "- Set `embed_dim` to the size of the embedding.\n",
    "- Set `seq_length` to the length of sequence.\n",
    "- Set `learning_rate` to the learning rate.\n",
    "- Set `show_every_n_batches` to the number of batches the neural network should print progress."
   ]
  },
  {
   "cell_type": "code",
   "execution_count": 50,
   "metadata": {
    "ExecuteTime": {
     "end_time": "2017-11-06T09:47:26.120030Z",
     "start_time": "2017-11-06T17:47:26.113843+08:00"
    },
    "collapsed": true,
    "deletable": true,
    "editable": true,
    "nbpresent": {
     "id": "baa4dd0f-b4db-4686-adba-cf317bb27bf8"
    }
   },
   "outputs": [],
   "source": [
    "# Number of Epochs\n",
    "num_epochs = 1000\n",
    "# Batch Size\n",
    "batch_size = 128\n",
    "# RNN Size\n",
    "rnn_size = 256\n",
    "# Embedding Dimension Size\n",
    "embed_dim = 600\n",
    "# Sequence Length\n",
    "seq_length = 50\n",
    "# Learning Rate\n",
    "learning_rate = 0.001\n",
    "# Show stats for every n number of batches\n",
    "show_every_n_batches = 64\n",
    "\n",
    "\"\"\"\n",
    "DON'T MODIFY ANYTHING IN THIS CELL THAT IS BELOW THIS LINE\n",
    "\"\"\"\n",
    "save_dir = './save'"
   ]
  },
  {
   "cell_type": "markdown",
   "metadata": {
    "deletable": true,
    "editable": true,
    "nbpresent": {
     "id": "0335dba2-a929-464b-9f0f-5fd75df40571"
    }
   },
   "source": [
    "### Build the Graph\n",
    "Build the graph using the neural network you implemented."
   ]
  },
  {
   "cell_type": "code",
   "execution_count": 51,
   "metadata": {
    "ExecuteTime": {
     "end_time": "2017-11-06T09:21:53.475873Z",
     "start_time": "2017-11-06T17:21:52.223538+08:00"
    },
    "collapsed": true,
    "deletable": true,
    "editable": true,
    "nbpresent": {
     "id": "a2b195de-7363-4c0b-b237-5509d6928162"
    }
   },
   "outputs": [],
   "source": [
    "\"\"\"\n",
    "DON'T MODIFY ANYTHING IN THIS CELL\n",
    "\"\"\"\n",
    "from tensorflow.contrib import seq2seq\n",
    "\n",
    "train_graph = tf.Graph()\n",
    "with train_graph.as_default():\n",
    "    vocab_size = len(int_to_vocab)\n",
    "    input_text, targets, lr = get_inputs()\n",
    "    input_data_shape = tf.shape(input_text)\n",
    "    cell, initial_state = get_init_cell(input_data_shape[0], rnn_size)\n",
    "    logits, final_state = build_nn(cell, rnn_size, input_text, vocab_size, embed_dim)\n",
    "\n",
    "    # Probabilities for generating words\n",
    "    probs = tf.nn.softmax(logits, name='probs')\n",
    "\n",
    "    # Loss function\n",
    "    cost = seq2seq.sequence_loss(\n",
    "        logits,\n",
    "        targets,\n",
    "        tf.ones([input_data_shape[0], input_data_shape[1]]))\n",
    "\n",
    "    # Optimizer\n",
    "    optimizer = tf.train.AdamOptimizer(lr)\n",
    "\n",
    "    # Gradient Clipping\n",
    "    gradients = optimizer.compute_gradients(cost)\n",
    "    capped_gradients = [(tf.clip_by_value(grad, -1., 1.), var) for grad, var in gradients if grad is not None]\n",
    "    train_op = optimizer.apply_gradients(capped_gradients)"
   ]
  },
  {
   "cell_type": "markdown",
   "metadata": {
    "deletable": true,
    "editable": true,
    "nbpresent": {
     "id": "1b709bba-5d67-461f-8e24-dc8966cc723b"
    }
   },
   "source": [
    "## Train\n",
    "Train the neural network on the preprocessed data.  If you have a hard time getting a good loss, check the [forms](https://discussions.udacity.com/) to see if anyone is having the same problem."
   ]
  },
  {
   "cell_type": "code",
   "execution_count": 52,
   "metadata": {
    "ExecuteTime": {
     "end_time": "2017-11-06T09:55:42.643724Z",
     "start_time": "2017-11-06T17:47:31.349395+08:00"
    },
    "collapsed": false,
    "deletable": true,
    "editable": true,
    "nbpresent": {
     "id": "6c4a7d75-ee3c-4f76-a529-52588c63ddac"
    },
    "scrolled": false
   },
   "outputs": [
    {
     "name": "stdout",
     "output_type": "stream",
     "text": [
      "Epoch   0 Batch    0/10   train_loss = 8.827\n",
      "Epoch   6 Batch    4/10   train_loss = 5.809\n",
      "Epoch  12 Batch    8/10   train_loss = 5.511\n",
      "Epoch  19 Batch    2/10   train_loss = 5.055\n",
      "Epoch  25 Batch    6/10   train_loss = 4.761\n",
      "Epoch  32 Batch    0/10   train_loss = 4.520\n",
      "Epoch  38 Batch    4/10   train_loss = 4.265\n",
      "Epoch  44 Batch    8/10   train_loss = 4.099\n",
      "Epoch  51 Batch    2/10   train_loss = 4.016\n",
      "Epoch  57 Batch    6/10   train_loss = 3.947\n",
      "Epoch  64 Batch    0/10   train_loss = 3.810\n",
      "Epoch  70 Batch    4/10   train_loss = 3.662\n",
      "Epoch  76 Batch    8/10   train_loss = 3.564\n",
      "Epoch  83 Batch    2/10   train_loss = 3.414\n",
      "Epoch  89 Batch    6/10   train_loss = 3.538\n",
      "Epoch  96 Batch    0/10   train_loss = 3.219\n",
      "Epoch 102 Batch    4/10   train_loss = 3.273\n",
      "Epoch 108 Batch    8/10   train_loss = 2.996\n",
      "Epoch 115 Batch    2/10   train_loss = 2.954\n",
      "Epoch 121 Batch    6/10   train_loss = 2.874\n",
      "Epoch 128 Batch    0/10   train_loss = 2.678\n",
      "Epoch 134 Batch    4/10   train_loss = 2.840\n",
      "Epoch 140 Batch    8/10   train_loss = 2.539\n",
      "Epoch 147 Batch    2/10   train_loss = 2.430\n",
      "Epoch 153 Batch    6/10   train_loss = 2.372\n",
      "Epoch 160 Batch    0/10   train_loss = 2.271\n",
      "Epoch 166 Batch    4/10   train_loss = 2.186\n",
      "Epoch 172 Batch    8/10   train_loss = 2.071\n",
      "Epoch 179 Batch    2/10   train_loss = 1.997\n",
      "Epoch 185 Batch    6/10   train_loss = 1.885\n",
      "Epoch 192 Batch    0/10   train_loss = 1.849\n",
      "Epoch 198 Batch    4/10   train_loss = 1.746\n",
      "Epoch 204 Batch    8/10   train_loss = 1.579\n",
      "Epoch 211 Batch    2/10   train_loss = 1.577\n",
      "Epoch 217 Batch    6/10   train_loss = 1.579\n",
      "Epoch 224 Batch    0/10   train_loss = 1.426\n",
      "Epoch 230 Batch    4/10   train_loss = 1.424\n",
      "Epoch 236 Batch    8/10   train_loss = 1.271\n",
      "Epoch 243 Batch    2/10   train_loss = 1.347\n",
      "Epoch 249 Batch    6/10   train_loss = 1.111\n",
      "Epoch 256 Batch    0/10   train_loss = 1.087\n",
      "Epoch 262 Batch    4/10   train_loss = 1.103\n",
      "Epoch 268 Batch    8/10   train_loss = 0.954\n",
      "Epoch 275 Batch    2/10   train_loss = 1.058\n",
      "Epoch 281 Batch    6/10   train_loss = 0.906\n",
      "Epoch 288 Batch    0/10   train_loss = 0.807\n",
      "Epoch 294 Batch    4/10   train_loss = 0.956\n",
      "Epoch 300 Batch    8/10   train_loss = 0.755\n",
      "Epoch 307 Batch    2/10   train_loss = 0.667\n",
      "Epoch 313 Batch    6/10   train_loss = 0.705\n",
      "Epoch 320 Batch    0/10   train_loss = 0.658\n",
      "Epoch 326 Batch    4/10   train_loss = 0.589\n",
      "Epoch 332 Batch    8/10   train_loss = 0.573\n",
      "Epoch 339 Batch    2/10   train_loss = 0.526\n",
      "Epoch 345 Batch    6/10   train_loss = 0.563\n",
      "Epoch 352 Batch    0/10   train_loss = 0.541\n",
      "Epoch 358 Batch    4/10   train_loss = 0.470\n",
      "Epoch 364 Batch    8/10   train_loss = 0.382\n",
      "Epoch 371 Batch    2/10   train_loss = 0.381\n",
      "Epoch 377 Batch    6/10   train_loss = 0.439\n",
      "Epoch 384 Batch    0/10   train_loss = 0.449\n",
      "Epoch 390 Batch    4/10   train_loss = 0.320\n",
      "Epoch 396 Batch    8/10   train_loss = 0.262\n",
      "Epoch 403 Batch    2/10   train_loss = 0.250\n",
      "Epoch 409 Batch    6/10   train_loss = 0.244\n",
      "Epoch 416 Batch    0/10   train_loss = 0.241\n",
      "Epoch 422 Batch    4/10   train_loss = 0.556\n",
      "Epoch 428 Batch    8/10   train_loss = 0.323\n",
      "Epoch 435 Batch    2/10   train_loss = 0.200\n",
      "Epoch 441 Batch    6/10   train_loss = 0.180\n",
      "Epoch 448 Batch    0/10   train_loss = 0.161\n",
      "Epoch 454 Batch    4/10   train_loss = 0.160\n",
      "Epoch 460 Batch    8/10   train_loss = 0.151\n",
      "Epoch 467 Batch    2/10   train_loss = 0.150\n",
      "Epoch 473 Batch    6/10   train_loss = 0.316\n",
      "Epoch 480 Batch    0/10   train_loss = 0.379\n",
      "Epoch 486 Batch    4/10   train_loss = 0.147\n",
      "Epoch 492 Batch    8/10   train_loss = 0.126\n",
      "Epoch 499 Batch    2/10   train_loss = 0.120\n",
      "Epoch 505 Batch    6/10   train_loss = 0.112\n",
      "Epoch 512 Batch    0/10   train_loss = 0.104\n",
      "Epoch 518 Batch    4/10   train_loss = 0.103\n",
      "Epoch 524 Batch    8/10   train_loss = 0.097\n",
      "Epoch 531 Batch    2/10   train_loss = 0.095\n",
      "Epoch 537 Batch    6/10   train_loss = 0.090\n",
      "Epoch 544 Batch    0/10   train_loss = 0.085\n",
      "Epoch 550 Batch    4/10   train_loss = 0.086\n",
      "Epoch 556 Batch    8/10   train_loss = 0.082\n",
      "Epoch 563 Batch    2/10   train_loss = 0.081\n",
      "Epoch 569 Batch    6/10   train_loss = 0.076\n",
      "Epoch 576 Batch    0/10   train_loss = 0.073\n",
      "Epoch 582 Batch    4/10   train_loss = 0.075\n",
      "Epoch 588 Batch    8/10   train_loss = 0.072\n",
      "Epoch 595 Batch    2/10   train_loss = 0.071\n",
      "Epoch 601 Batch    6/10   train_loss = 0.067\n",
      "Epoch 608 Batch    0/10   train_loss = 0.065\n",
      "Epoch 614 Batch    4/10   train_loss = 0.067\n",
      "Epoch 620 Batch    8/10   train_loss = 0.064\n",
      "Epoch 627 Batch    2/10   train_loss = 0.064\n",
      "Epoch 633 Batch    6/10   train_loss = 0.061\n",
      "Epoch 640 Batch    0/10   train_loss = 0.059\n",
      "Epoch 646 Batch    4/10   train_loss = 0.061\n",
      "Epoch 652 Batch    8/10   train_loss = 0.059\n",
      "Epoch 659 Batch    2/10   train_loss = 0.058\n",
      "Epoch 665 Batch    6/10   train_loss = 0.057\n",
      "Epoch 672 Batch    0/10   train_loss = 0.055\n",
      "Epoch 678 Batch    4/10   train_loss = 0.057\n",
      "Epoch 684 Batch    8/10   train_loss = 0.056\n",
      "Epoch 691 Batch    2/10   train_loss = 0.063\n",
      "Epoch 697 Batch    6/10   train_loss = 0.523\n",
      "Epoch 704 Batch    0/10   train_loss = 0.249\n",
      "Epoch 710 Batch    4/10   train_loss = 0.090\n",
      "Epoch 716 Batch    8/10   train_loss = 0.062\n",
      "Epoch 723 Batch    2/10   train_loss = 0.058\n",
      "Epoch 729 Batch    6/10   train_loss = 0.056\n",
      "Epoch 736 Batch    0/10   train_loss = 0.054\n",
      "Epoch 742 Batch    4/10   train_loss = 0.055\n",
      "Epoch 748 Batch    8/10   train_loss = 0.054\n",
      "Epoch 755 Batch    2/10   train_loss = 0.052\n",
      "Epoch 761 Batch    6/10   train_loss = 0.051\n",
      "Epoch 768 Batch    0/10   train_loss = 0.050\n",
      "Epoch 774 Batch    4/10   train_loss = 0.051\n",
      "Epoch 780 Batch    8/10   train_loss = 0.051\n",
      "Epoch 787 Batch    2/10   train_loss = 0.049\n",
      "Epoch 793 Batch    6/10   train_loss = 0.049\n",
      "Epoch 800 Batch    0/10   train_loss = 0.048\n",
      "Epoch 806 Batch    4/10   train_loss = 0.049\n",
      "Epoch 812 Batch    8/10   train_loss = 0.049\n",
      "Epoch 819 Batch    2/10   train_loss = 0.047\n",
      "Epoch 825 Batch    6/10   train_loss = 0.047\n",
      "Epoch 832 Batch    0/10   train_loss = 0.046\n",
      "Epoch 838 Batch    4/10   train_loss = 0.048\n",
      "Epoch 844 Batch    8/10   train_loss = 0.048\n",
      "Epoch 851 Batch    2/10   train_loss = 0.046\n",
      "Epoch 857 Batch    6/10   train_loss = 0.046\n",
      "Epoch 864 Batch    0/10   train_loss = 0.045\n",
      "Epoch 870 Batch    4/10   train_loss = 0.047\n",
      "Epoch 876 Batch    8/10   train_loss = 0.047\n",
      "Epoch 883 Batch    2/10   train_loss = 0.045\n",
      "Epoch 889 Batch    6/10   train_loss = 0.045\n",
      "Epoch 896 Batch    0/10   train_loss = 0.044\n",
      "Epoch 902 Batch    4/10   train_loss = 0.046\n",
      "Epoch 908 Batch    8/10   train_loss = 0.046\n",
      "Epoch 915 Batch    2/10   train_loss = 0.044\n",
      "Epoch 921 Batch    6/10   train_loss = 0.045\n",
      "Epoch 928 Batch    0/10   train_loss = 0.043\n",
      "Epoch 934 Batch    4/10   train_loss = 0.045\n",
      "Epoch 940 Batch    8/10   train_loss = 0.045\n",
      "Epoch 947 Batch    2/10   train_loss = 0.044\n",
      "Epoch 953 Batch    6/10   train_loss = 0.044\n",
      "Epoch 960 Batch    0/10   train_loss = 0.043\n",
      "Epoch 966 Batch    4/10   train_loss = 0.045\n",
      "Epoch 972 Batch    8/10   train_loss = 0.045\n",
      "Epoch 979 Batch    2/10   train_loss = 0.043\n",
      "Epoch 985 Batch    6/10   train_loss = 0.044\n",
      "Epoch 992 Batch    0/10   train_loss = 0.042\n",
      "Epoch 998 Batch    4/10   train_loss = 0.044\n",
      "Model Trained and Saved\n"
     ]
    }
   ],
   "source": [
    "\"\"\"\n",
    "DON'T MODIFY ANYTHING IN THIS CELL\n",
    "\"\"\"\n",
    "batches = get_batches(int_text, batch_size, seq_length)\n",
    "\n",
    "with tf.Session(graph=train_graph) as sess:\n",
    "    sess.run(tf.global_variables_initializer())\n",
    "\n",
    "    for epoch_i in range(num_epochs):\n",
    "        state = sess.run(initial_state, {input_text: batches[0][0]})\n",
    "\n",
    "        for batch_i, (x, y) in enumerate(batches):\n",
    "            feed = {\n",
    "                input_text: x,\n",
    "                targets: y,\n",
    "                initial_state: state,\n",
    "                lr: learning_rate}\n",
    "            train_loss, state, _ = sess.run([cost, final_state, train_op], feed)\n",
    "\n",
    "            # Show every <show_every_n_batches> batches\n",
    "            if (epoch_i * len(batches) + batch_i) % show_every_n_batches == 0:\n",
    "                print('Epoch {:>3} Batch {:>4}/{}   train_loss = {:.3f}'.format(\n",
    "                    epoch_i,\n",
    "                    batch_i,\n",
    "                    len(batches),\n",
    "                    train_loss))\n",
    "\n",
    "    # Save Model\n",
    "    saver = tf.train.Saver()\n",
    "    saver.save(sess, save_dir)\n",
    "    print('Model Trained and Saved')"
   ]
  },
  {
   "cell_type": "markdown",
   "metadata": {},
   "source": [
    "稍稍过拟合."
   ]
  },
  {
   "cell_type": "markdown",
   "metadata": {
    "deletable": true,
    "editable": true,
    "nbpresent": {
     "id": "3f778473-c521-423f-b3af-08d923d0e805"
    }
   },
   "source": [
    "## Save Parameters\n",
    "Save `seq_length` and `save_dir` for generating a new TV script."
   ]
  },
  {
   "cell_type": "code",
   "execution_count": 54,
   "metadata": {
    "ExecuteTime": {
     "end_time": "2017-11-06T09:58:24.344356Z",
     "start_time": "2017-11-06T17:58:24.339060+08:00"
    },
    "collapsed": true,
    "deletable": true,
    "editable": true,
    "nbpresent": {
     "id": "b4f53481-19d1-44c6-ba32-4fa7f3443c68"
    }
   },
   "outputs": [],
   "source": [
    "\"\"\"\n",
    "DON'T MODIFY ANYTHING IN THIS CELL\n",
    "\"\"\"\n",
    "# Save parameters for checkpoint\n",
    "helper.save_params((seq_length, save_dir))"
   ]
  },
  {
   "cell_type": "markdown",
   "metadata": {
    "deletable": true,
    "editable": true,
    "nbpresent": {
     "id": "1ab8d487-fcfb-43e3-832d-e5580603361e"
    }
   },
   "source": [
    "# Checkpoint"
   ]
  },
  {
   "cell_type": "code",
   "execution_count": 55,
   "metadata": {
    "ExecuteTime": {
     "end_time": "2017-11-06T09:58:26.176023Z",
     "start_time": "2017-11-06T17:58:26.160748+08:00"
    },
    "collapsed": true,
    "deletable": true,
    "editable": true,
    "nbpresent": {
     "id": "660ea041-ade6-4cd0-aeba-7ab6e98e8980"
    }
   },
   "outputs": [],
   "source": [
    "\"\"\"\n",
    "DON'T MODIFY ANYTHING IN THIS CELL\n",
    "\"\"\"\n",
    "import tensorflow as tf\n",
    "import numpy as np\n",
    "import helper\n",
    "import problem_unittests as tests\n",
    "\n",
    "_, vocab_to_int, int_to_vocab, token_dict = helper.load_preprocess()\n",
    "seq_length, load_dir = helper.load_params()"
   ]
  },
  {
   "cell_type": "markdown",
   "metadata": {
    "deletable": true,
    "editable": true,
    "nbpresent": {
     "id": "14b99784-1f54-408e-be89-c7803f5d1f97"
    }
   },
   "source": [
    "## Implement Generate Functions\n",
    "### Get Tensors\n",
    "Get tensors from `loaded_graph` using the function [`get_tensor_by_name()`](https://www.tensorflow.org/api_docs/python/tf/Graph#get_tensor_by_name).  Get the tensors using the following names:\n",
    "- \"input:0\"\n",
    "- \"initial_state:0\"\n",
    "- \"final_state:0\"\n",
    "- \"probs:0\"\n",
    "\n",
    "Return the tensors in the following tuple `(InputTensor, InitialStateTensor, FinalStateTensor, ProbsTensor)` "
   ]
  },
  {
   "cell_type": "code",
   "execution_count": 56,
   "metadata": {
    "ExecuteTime": {
     "end_time": "2017-11-06T09:59:34.333840Z",
     "start_time": "2017-11-06T17:59:34.321657+08:00"
    },
    "collapsed": false,
    "deletable": true,
    "editable": true,
    "nbpresent": {
     "id": "ac010374-668c-468e-837d-00011303492c"
    }
   },
   "outputs": [
    {
     "name": "stdout",
     "output_type": "stream",
     "text": [
      "Tests Passed\n"
     ]
    }
   ],
   "source": [
    "def get_tensors(loaded_graph):\n",
    "    \"\"\"\n",
    "    Get input, initial state, final state, and probabilities tensor from <loaded_graph>\n",
    "    :param loaded_graph: TensorFlow graph loaded from file\n",
    "    :return: Tuple (InputTensor, InitialStateTensor, FinalStateTensor, ProbsTensor)\n",
    "    \"\"\"\n",
    "    input_tensor = loaded_graph.get_tensor_by_name('input:0')\n",
    "    initial_state_tensor = loaded_graph.get_tensor_by_name('initial_state:0')\n",
    "    final_state_tensor = loaded_graph.get_tensor_by_name('final_state:0')\n",
    "    probs_tensor = loaded_graph.get_tensor_by_name('probs:0')\n",
    "    \n",
    "    return input_tensor, initial_state_tensor, final_state_tensor, probs_tensor\n",
    "\n",
    "\n",
    "\"\"\"\n",
    "DON'T MODIFY ANYTHING IN THIS CELL THAT IS BELOW THIS LINE\n",
    "\"\"\"\n",
    "tests.test_get_tensors(get_tensors)"
   ]
  },
  {
   "cell_type": "markdown",
   "metadata": {
    "deletable": true,
    "editable": true,
    "nbpresent": {
     "id": "35917a91-7842-45db-b57e-f8ba05b1af0b"
    }
   },
   "source": [
    "### Choose Word\n",
    "Implement the `pick_word()` function to select the next word using `probabilities`."
   ]
  },
  {
   "cell_type": "code",
   "execution_count": 57,
   "metadata": {
    "ExecuteTime": {
     "end_time": "2017-11-06T10:00:01.582638Z",
     "start_time": "2017-11-06T18:00:01.573138+08:00"
    },
    "collapsed": false,
    "deletable": true,
    "editable": true,
    "nbpresent": {
     "id": "504eb28a-dc88-46cd-ae84-837faa609db8"
    }
   },
   "outputs": [
    {
     "name": "stdout",
     "output_type": "stream",
     "text": [
      "Tests Passed\n"
     ]
    }
   ],
   "source": [
    "def pick_word(probabilities, int_to_vocab):\n",
    "    \"\"\"\n",
    "    Pick the next word in the generated text\n",
    "    :param probabilities: Probabilites of the next word\n",
    "    :param int_to_vocab: Dictionary of word ids as the keys and words as the values\n",
    "    :return: String of the predicted word\n",
    "    \"\"\"\n",
    "    return int_to_vocab[np.argmax(probabilities)]\n",
    "\n",
    "\n",
    "\"\"\"\n",
    "DON'T MODIFY ANYTHING IN THIS CELL THAT IS BELOW THIS LINE\n",
    "\"\"\"\n",
    "tests.test_pick_word(pick_word)"
   ]
  },
  {
   "cell_type": "markdown",
   "metadata": {
    "deletable": true,
    "editable": true,
    "nbpresent": {
     "id": "54d7bffd-125b-4f9f-9d19-37fb3f4e8989"
    }
   },
   "source": [
    "## Generate TV Script\n",
    "This will generate the TV script for you.  Set `gen_length` to the length of TV script you want to generate."
   ]
  },
  {
   "cell_type": "code",
   "execution_count": 59,
   "metadata": {
    "ExecuteTime": {
     "end_time": "2017-11-06T10:00:12.522640Z",
     "start_time": "2017-11-06T18:00:05.888234+08:00"
    },
    "collapsed": false,
    "deletable": true,
    "editable": true,
    "nbpresent": {
     "id": "d8542f54-d5a4-4cd0-8fc8-f1a2741c721e"
    }
   },
   "outputs": [
    {
     "name": "stdout",
     "output_type": "stream",
     "text": [
      "moe_szyslak: oh, so you're looking for a mr. smithers, eh? first name, waylon, is it?(suddenly vicious) listen to me, you... when i catch you, i'm going to pull out your eyes and shove 'em up your alley!\n",
      "homer_simpson:(terrified noise) can't believe there's me we'd all everyone, fellas i even ya, i'm just a rough cheer, there's what you gave you the greatest room the world, that's the wire.(singing) too happened, even you your last sickens, i'm one.\n",
      "\n",
      "\n",
      "grampa_simpson: here's the beauty part with me next military saturday food better.\n",
      "barney_gumble: hey, i'm sorry, it'll get a guy(indicates voice) who's a guess... when i had something with my fans? but homer, all right i should steal your new air conditioner.\n",
      "moe_szyslak: shut a keys today.\n",
      "bart_simpson:(offended) are that dumb?\n",
      "chief_wiggum:(singing) dad, you were better this bar about if they been away more there, and you can good friends. maybe i can believe our guy barney been a duff?\n",
      "moe_szyslak: this is a great product, this is smooth, glass whale, who's time, and cecil hampstead-on-cecil-cecil.\n",
      "moe_szyslak: so, uh, you little rutabaga brain, i'll take your eyeball and me that that a dank. the dank!\n",
      "homer_simpson:(quietly) i'm so take anything to have to take a money.(laughs)\n",
      "homer_simpson:(excited) yeah. you've got me-- she since duff hounds to\n"
     ]
    }
   ],
   "source": [
    "gen_length = 300\n",
    "# homer_simpson, moe_szyslak, or Barney_Gumble\n",
    "prime_word = 'moe_szyslak'\n",
    "\n",
    "\"\"\"\n",
    "DON'T MODIFY ANYTHING IN THIS CELL THAT IS BELOW THIS LINE\n",
    "\"\"\"\n",
    "loaded_graph = tf.Graph()\n",
    "with tf.Session(graph=loaded_graph) as sess:\n",
    "    # Load saved model\n",
    "    loader = tf.train.import_meta_graph(load_dir + '.meta')\n",
    "    loader.restore(sess, load_dir)\n",
    "\n",
    "    # Get Tensors from loaded model\n",
    "    input_text, initial_state, final_state, probs = get_tensors(loaded_graph)\n",
    "\n",
    "    # Sentences generation setup\n",
    "    gen_sentences = [prime_word + ':']\n",
    "    prev_state = sess.run(initial_state, {input_text: np.array([[1]])})\n",
    "\n",
    "    # Generate sentences\n",
    "    for n in range(gen_length):\n",
    "        # Dynamic Input\n",
    "        dyn_input = [[vocab_to_int[word] for word in gen_sentences[-seq_length:]]]\n",
    "        dyn_seq_length = len(dyn_input[0])\n",
    "\n",
    "        # Get Prediction\n",
    "        probabilities, prev_state = sess.run(\n",
    "            [probs, final_state],\n",
    "            {input_text: dyn_input, initial_state: prev_state})\n",
    "        \n",
    "        pred_word = pick_word(probabilities[dyn_seq_length-1], int_to_vocab)\n",
    "\n",
    "        gen_sentences.append(pred_word)\n",
    "    \n",
    "    # Remove tokens\n",
    "    tv_script = ' '.join(gen_sentences)\n",
    "    for key, token in token_dict.items():\n",
    "        ending = ' ' if key in ['\\n', '(', '\"'] else ''\n",
    "        tv_script = tv_script.replace(' ' + token.lower(), key)\n",
    "    tv_script = tv_script.replace('\\n ', '\\n')\n",
    "    tv_script = tv_script.replace('( ', '(')\n",
    "        \n",
    "    print(tv_script)"
   ]
  },
  {
   "cell_type": "markdown",
   "metadata": {
    "deletable": true,
    "editable": true,
    "nbpresent": {
     "id": "cb778894-df52-4484-86ee-abf7195a24ed"
    }
   },
   "source": [
    "# The TV Script is Nonsensical\n",
    "It's ok if the TV script doesn't make any sense.  We trained on less than a megabyte of text.  In order to get good results, you'll have to use a smaller vocabulary or get more data.  Luckly there's more data!  As we mentioned in the begging of this project, this is a subset of [another dataset](https://www.kaggle.com/wcukierski/the-simpsons-by-the-data).  We didn't have you train on all the data, because that would take too long.  However, you are free to train your neural network on all the data.  After you complete the project, of course.\n",
    "# Submitting This Project\n",
    "When submitting this project, make sure to run all the cells before saving the notebook. Save the notebook file as \"dlnd_tv_script_generation.ipynb\" and save it as a HTML file under \"File\" -> \"Download as\". Include the \"helper.py\" and \"problem_unittests.py\" files in your submission."
   ]
  }
 ],
 "metadata": {
  "kernelspec": {
   "display_name": "Python [conda env:dlcn]",
   "language": "python",
   "name": "conda-env-dlcn-py"
  },
  "language_info": {
   "codemirror_mode": {
    "name": "ipython",
    "version": 3
   },
   "file_extension": ".py",
   "mimetype": "text/x-python",
   "name": "python",
   "nbconvert_exporter": "python",
   "pygments_lexer": "ipython3",
   "version": "3.6.3"
  },
  "widgets": {
   "state": {},
   "version": "1.1.2"
  }
 },
 "nbformat": 4,
 "nbformat_minor": 1
}
